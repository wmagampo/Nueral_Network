{
 "cells": [
  {
   "cell_type": "code",
   "execution_count": 1,
   "id": "b62bbb6b",
   "metadata": {},
   "outputs": [],
   "source": [
    "import torch\n",
    "import torch.nn as nn"
   ]
  },
  {
   "cell_type": "code",
   "execution_count": 2,
   "id": "15129c29",
   "metadata": {},
   "outputs": [
    {
     "name": "stdout",
     "output_type": "stream",
     "text": [
      "tensor([[5., 3., 1., 2.],\n",
      "        [6., 3., 6., 1.]])\n"
     ]
    }
   ],
   "source": [
    "# We want to create a neuron / tensors\n",
    "x = [[5, 3, 1, 2], [6, 3, 6, 1]]\n",
    "x = torch.Tensor(x)\n",
    "\n",
    "print(x)"
   ]
  },
  {
   "cell_type": "code",
   "execution_count": 3,
   "id": "568bae13",
   "metadata": {},
   "outputs": [],
   "source": [
    "# Class representing your neural network\n",
    "# 4 (input) --> 3 (hidden layer) --> 2 (hidden layer) --> 1 (output layer)\n",
    "class SinglePerceptron(nn.Module):\n",
    "    def __init__(self):\n",
    "        super().__init__()\n",
    "        self.hidden_layer_1 = nn.Linear(4, 3) # input to first hidden layer\n",
    "        self.hidden_layer_2 = nn.Linear(3, 2)\n",
    "        self.output_layer = nn.Linear(2, 1)\n",
    "        self.activation = nn.Sigmoid()\n",
    "        \n",
    "        #self.multiple_hidden_2x2 = nn.Sequential()\n",
    "        \n",
    "        #for i in range(1000):\n",
    "        #    self.multiple_hidden_2x2.append(nn.Linear(2, 2))\n",
    "        #    self.multiple_hidden_2x2.append(nn.Sigmoid())\n",
    "    \n",
    "    def forward(self, x):\n",
    "        x = self.hidden_layer_1(x)\n",
    "        x = self.activation(x)\n",
    "        \n",
    "        x = self.hidden_layer_2(x)\n",
    "        x = self.activation(x)\n",
    "        \n",
    "        #x = self.multiple_hidden_2x2(x)\n",
    "        \n",
    "        y = self.output_layer(x)\n",
    "        y = self.activation(y)\n",
    "        \n",
    "        return y"
   ]
  },
  {
   "cell_type": "code",
   "execution_count": 4,
   "id": "291af173",
   "metadata": {},
   "outputs": [
    {
     "name": "stdout",
     "output_type": "stream",
     "text": [
      "tensor([[0.4076],\n",
      "        [0.4070]], grad_fn=<SigmoidBackward0>)\n"
     ]
    }
   ],
   "source": [
    "model = SinglePerceptron()\n",
    "\n",
    "predictions = model.forward(x)\n",
    "\n",
    "print(predictions)"
   ]
  },
  {
   "cell_type": "code",
   "execution_count": 7,
   "id": "df697c53",
   "metadata": {},
   "outputs": [
    {
     "name": "stdout",
     "output_type": "stream",
     "text": [
      "i  0\n",
      "p:  tensor([0.4076], grad_fn=<SelectBackward0>)\n",
      "a:  tensor([1.])\n",
      "i  1\n",
      "p:  tensor([0.4070], grad_fn=<SelectBackward0>)\n",
      "a:  tensor([0.])\n"
     ]
    }
   ],
   "source": [
    "answer_key = torch.Tensor([[1], [0]])\n",
    "\n",
    "for i in range(len(predictions)):\n",
    "    p = predictions[i]\n",
    "    a = answer_key[i]\n",
    "    print (\"i \", i)\n",
    "    print (\"p: \", p)\n",
    "    print (\"a: \", a)\n",
    "\n",
    "    #loss = loss_fn(p, a)\n",
    "\n",
    "    #print(loss.item())"
   ]
  },
  {
   "cell_type": "code",
   "execution_count": null,
   "id": "ef8dec89",
   "metadata": {},
   "outputs": [],
   "source": []
  }
 ],
 "metadata": {
  "kernelspec": {
   "display_name": "Python 3 (ipykernel)",
   "language": "python",
   "name": "python3"
  },
  "language_info": {
   "codemirror_mode": {
    "name": "ipython",
    "version": 3
   },
   "file_extension": ".py",
   "mimetype": "text/x-python",
   "name": "python",
   "nbconvert_exporter": "python",
   "pygments_lexer": "ipython3",
   "version": "3.10.9"
  }
 },
 "nbformat": 4,
 "nbformat_minor": 5
}
